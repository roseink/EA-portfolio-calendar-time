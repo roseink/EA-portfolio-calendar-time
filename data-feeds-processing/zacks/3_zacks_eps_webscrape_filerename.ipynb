{
 "cells": [
  {
   "cell_type": "code",
   "execution_count": 14,
   "metadata": {
    "cell_id": "b9504fa5-428b-43ff-9ec0-c029c3eae06c",
    "deepnote_cell_type": "code",
    "deepnote_output_heights": [
     21.1875
    ],
    "deepnote_to_be_reexecuted": false,
    "execution_millis": 2373,
    "execution_start": 1643910105580,
    "source_hash": "afc4ffd5",
    "tags": []
   },
   "outputs": [
    {
     "data": {
      "text/plain": [
       "'C:\\\\Users\\\\clj585\\\\OneDrive - Northwestern University\\\\data_feeds\\\\zacks\\\\data\\\\webscrape'"
      ]
     },
     "execution_count": 14,
     "metadata": {},
     "output_type": "execute_result"
    }
   ],
   "source": [
    "# Building Webscraper for EPS Buy and Sells Zacks\n",
    "\n",
    "# Libraries Imported and Install Driver\n",
    "from IPython import get_ipython\n",
    "get_ipython().magic('reset -sf')\n",
    "import chromedriver_autoinstaller\n",
    "import chromedriver_binary\n",
    "import os\n",
    "import requests\n",
    "from selenium.webdriver.common.keys import Keys\n",
    "import numpy as np\n",
    "from selenium.common.exceptions import NoSuchElementException\n",
    "from selenium.webdriver import Chrome\n",
    "from selenium.webdriver.chrome.options import Options\n",
    "import pandas as pd\n",
    "import matplotlib.pyplot as plt\n",
    "import seaborn as sns\n",
    "import re\n",
    "from selenium import webdriver\n",
    "from selenium.webdriver.support.ui import WebDriverWait\n",
    "from selenium.webdriver.support import expected_conditions as EC\n",
    "from selenium.webdriver.common.by import By\n",
    "from selenium.common.exceptions import ElementClickInterceptedException, TimeoutException\n",
    "from selenium.webdriver.chrome.options import Options\n",
    "import time\n",
    "from selenium.webdriver.common.action_chains import ActionChains\n",
    "import os.path\n",
    "from datetime import datetime\n",
    "chromedriver_autoinstaller.install()\n",
    "os.getcwd()"
   ]
  },
  {
   "cell_type": "code",
   "execution_count": 15,
   "metadata": {
    "cell_id": "1482dcaa-79fd-4571-b519-d8eae22f2f53",
    "deepnote_cell_type": "code",
    "deepnote_to_be_reexecuted": false,
    "execution_millis": 0,
    "execution_start": 1643910109636,
    "source_hash": "d04ee31c",
    "tags": []
   },
   "outputs": [],
   "source": [
    "# Configure Chrome Options\n",
    "\n",
    "def setOptions():\n",
    "    options = Options()\n",
    "    options.add_experimental_option(\"prefs\", {\n",
    "       \"download.default_directory\":\"C:\\\\Users\\\\clj585\\\\OneDrive - Northwestern University\\\\data_feeds\\\\zacks\\\\data\\\\webscrape\",      \n",
    "        # Make sure change download dir!\n",
    "        \"download.prompt_for_download\": False,\n",
    "        \"download.directory_upgrade\": True\n",
    "    })\n",
    "    return options"
   ]
  },
  {
   "cell_type": "code",
   "execution_count": 16,
   "metadata": {
    "cell_id": "fceeee59-4592-4bb6-9324-b8783c1653b8",
    "deepnote_cell_type": "code",
    "deepnote_to_be_reexecuted": false,
    "execution_millis": 0,
    "execution_start": 1643910109646,
    "source_hash": "ec648da9",
    "tags": []
   },
   "outputs": [],
   "source": [
    "# Login Function at Start\n",
    "def login(driver):\n",
    "    driver.get(\"https://www.zacks.com/\")\n",
    "    #popup = driver.find_element(By.XPATH, \n",
    "    #\"/html/body/footer/div[1]/div[2]/div/div/div/div[1]\")\n",
    "    #popup.click()\n",
    "    \n",
    "    signInDropFown = driver.find_element(By.XPATH, \n",
    "    '/html/body/header/ul/li[2]/a')\n",
    "    signInDropFown.click()\n",
    "\n",
    "    # Enter password and email \n",
    "    usernameField = driver.find_element(By.XPATH, \n",
    "    '/html/body/header/ul/li[2]/div/form/div[1]/input')\n",
    "    usernameField.send_keys('fundalytix@gmail.com') \n",
    "    passwordField = driver.find_element(By.XPATH, \n",
    "    '/html/body/header/ul/li[2]/div/form/div[2]/input')\n",
    "    passwordField.send_keys('Matt1980**') \n",
    "  \n",
    "    loginButton = driver.find_element(By.XPATH, \n",
    "    '/html/body/header/ul/li[2]/div/form/p[2]/input')\n",
    "    loginButton.click()\n",
    "    return driver"
   ]
  },
  {
   "cell_type": "code",
   "execution_count": 17,
   "metadata": {
    "cell_id": "106b68d0-efaf-4b02-bfe2-105cf5b49956",
    "deepnote_cell_type": "code",
    "deepnote_to_be_reexecuted": false,
    "execution_millis": 262653,
    "execution_start": 1643910109670,
    "source_hash": "c4236e8e",
    "tags": []
   },
   "outputs": [],
   "source": [
    "def getCompletedDownloads(driver):\n",
    "    if not driver.current_url.startswith(\"chrome://downloads\"):\n",
    "        driver.get(\"chrome://downloads/\")\n",
    "\n",
    "    return driver.execute_script(\"\"\"\n",
    "        var items = document.querySelector('downloads-manager')\n",
    "            .shadowRoot.getElementById('downloadsList').items;\n",
    "\n",
    "        if (items.every(e => e.state === \"COMPLETE\"))\n",
    "            return items.length;\n",
    "        \"\"\")"
   ]
  },
  {
   "cell_type": "code",
   "execution_count": 18,
   "metadata": {
    "cell_id": "9355d1f4-dcc6-4d75-938b-6fe96d24e3f8",
    "deepnote_cell_type": "code",
    "deepnote_to_be_reexecuted": false,
    "execution_millis": 260573,
    "execution_start": 1643910109671,
    "source_hash": "20a51b7f",
    "tags": []
   },
   "outputs": [],
   "source": [
    "def checkDownloads(downloadCount, driver):\n",
    "    driver.execute_script(\"window.open();\")\n",
    "    driver.switch_to.window(driver.window_handles[1])\n",
    "\n",
    "    downloadedCSV = getCompletedDownloads(driver)\n",
    "    while (downloadedCSV != None) and (downloadedCSV < downloadCount):\n",
    "        time.sleep(.5)\n",
    "        downloadedCSV = getCompletedDownloads(driver)\n",
    "    time.sleep(.5)"
   ]
  },
  {
   "cell_type": "code",
   "execution_count": 19,
   "metadata": {
    "cell_id": "5eef6d16-f1b6-48da-b646-15e01288ff94",
    "deepnote_cell_type": "code",
    "deepnote_output_heights": [
     606.1875
    ],
    "deepnote_to_be_reexecuted": false,
    "execution_millis": 19525,
    "execution_start": 1643910109750,
    "source_hash": "7ce1eb52",
    "tags": []
   },
   "outputs": [
    {
     "name": "stdout",
     "output_type": "stream",
     "text": [
      "Jun-26-2022\n",
      "Zacks Earnings Surprise Prediction - Zacks Investment Research.csv\n",
      "Zacks_ESPBuy_Jun-26-2022.csv\n",
      "success\n"
     ]
    }
   ],
   "source": [
    "def main():\n",
    "    csvsDownloaded = 0\n",
    "    options = setOptions()\n",
    "    \n",
    "    driver = webdriver.Chrome(options=options)      # Change exec path!\n",
    "    driver.set_window_size(1920, 1080)\n",
    "\n",
    "    driver = login(driver)\n",
    "    \n",
    "    delay = 10\n",
    "    \n",
    "    # Mouse over on the Earnings top tab!\n",
    "    a = ActionChains(driver)\n",
    "    m = driver.find_element(By.XPATH, \"/html/body/header/nav/ul/li[5]/a\")\n",
    "    a.move_to_element(m).perform()\n",
    "    \n",
    "    # Click on ESP Filter\n",
    "    ESPFilterButton = driver.find_element(By.XPATH, \"/html/body/header/nav/ul/li[5]/ul/li[5]/a\")\n",
    "    ESPFilterButton.click()\n",
    "    \n",
    "    try:\n",
    "        ESPBuyButton = driver.find_element(By.XPATH, \"/html/body/div[5]/div[2]/div/form/nav/ul/li[1]/a\")\n",
    "        ESPBuyButton.click()\n",
    "        \n",
    "        DownloadBuyButton = driver.find_element(By.XPATH, \n",
    "                                \"/html/body/div[5]/div[3]/div/section/div[2]/div[2]/div/div[2]/button[1]/span\")\n",
    "        DownloadBuyButton.click()\n",
    "        \n",
    "        csvsDownloaded += 1 #used to keep track of how many downloads have been processed\n",
    "        checkDownloads(csvsDownloaded, driver)\n",
    "        \n",
    "        # pull today's date\n",
    "        today = datetime.today()\n",
    "        today = today.strftime(\"%b-%d-%Y\")\n",
    "        print(today)\n",
    "        \n",
    "        # old file name\n",
    "        old_name = \"Zacks Earnings Surprise Prediction - Zacks Investment Research.csv\"\n",
    "        print(old_name)\n",
    "        # new file name\n",
    "        new_name = \"Zacks_ESPBuy_\" + str(today) +\".csv\"\n",
    "        print(new_name)\n",
    "        # change directories to your downloads folder\n",
    "        dir_download = \"C://Users/clj585/OneDrive - Northwestern University/data_feeds/zacks/data/webscrape/\"\n",
    "        os.chdir(dir_download)\n",
    "\n",
    "        # change a single file name  \n",
    "        os.rename(old_name, new_name)\n",
    "        \n",
    "        # If for whatever reason the above script fails after 2 tries, need to alert us \n",
    "        # i.e. there was a Christmas holiday popup that blocked logging in function to run \n",
    "        print(\"success\")                     \n",
    "\n",
    "        driver.execute_script(\"window.close();\")\n",
    "\n",
    "    finally:\n",
    "        driver.quit()\n",
    "\n",
    "if __name__ == \"__main__\":\n",
    "    main()"
   ]
  },
  {
   "cell_type": "code",
   "execution_count": 20,
   "metadata": {
    "cell_id": "5ce41058-30e8-4ae5-b976-758293ed5409",
    "deepnote_cell_type": "code",
    "deepnote_to_be_reexecuted": true,
    "execution_millis": 708,
    "execution_start": 1643910041274,
    "source_hash": "9398d0b8",
    "tags": []
   },
   "outputs": [
    {
     "name": "stdout",
     "output_type": "stream",
     "text": [
      "Jun-26-2022\n",
      "Zacks Earnings Surprise Prediction - Zacks Investment Research.csv\n",
      "Zacks_ESPSell_Jun-26-2022.csv\n",
      "success\n"
     ]
    }
   ],
   "source": [
    "def main():\n",
    "    csvsDownloaded = 0\n",
    "    options = setOptions()\n",
    "    driver = webdriver.Chrome(options=options)                   # Change exec path!\n",
    "    driver.set_window_size(1920, 1080)\n",
    "\n",
    "    driver = login(driver)\n",
    "    \n",
    "    delay = 10\n",
    "    \n",
    "    # Mouse over on the Earnings top tab!\n",
    "    a = ActionChains(driver)\n",
    "    m = driver.find_element(By.XPATH, \"/html/body/header/nav/ul/li[5]/a\")\n",
    "    a.move_to_element(m).perform()\n",
    "    \n",
    "    # Click on ESP Filter\n",
    "    ESPFilterButton = driver.find_element(By.XPATH, \"/html/body/header/nav/ul/li[5]/ul/li[5]/a\")\n",
    "    ESPFilterButton.click()\n",
    "    \n",
    "    try:\n",
    "        ESPSellButton = driver.find_element(By.XPATH, \"/html/body/div[5]/div[2]/div/form/nav/ul/li[2]/a\")\n",
    "        ESPSellButton.click()\n",
    "        DownloadSellButton = driver.find_element(By.XPATH, \n",
    "                        \"/html/body/div[5]/div[3]/div/section/div[2]/div[2]/div/div[2]/button[1]/span\")\n",
    "        DownloadSellButton.click()\n",
    "        \n",
    "        csvsDownloaded += 1 #used to keep track of how many downloads have been processed\n",
    "        checkDownloads(csvsDownloaded, driver)\n",
    "        \n",
    "        # pull today's date\n",
    "        today = datetime.today()\n",
    "        today = today.strftime(\"%b-%d-%Y\")\n",
    "        print(today)\n",
    "        \n",
    "        # old file name\n",
    "        old_name = \"Zacks Earnings Surprise Prediction - Zacks Investment Research.csv\"\n",
    "        print(old_name)\n",
    "        # new file name\n",
    "        new_name = \"Zacks_ESPSell_\" + str(today) +\".csv\"\n",
    "        print(new_name)\n",
    "        # change directories to your downloads folder\n",
    "        dir_download = \"C://Users/clj585/OneDrive - Northwestern University/data_feeds/zacks/data/webscrape/\"\n",
    "        os.chdir(dir_download)\n",
    "\n",
    "        # change a single file name  \n",
    "        os.rename(old_name, new_name)\n",
    "        \n",
    "        # If for whatever reason the above script fails after 2 tries, need to alert us \n",
    "        # i.e. there was a Christmas holiday popup that blocked logging in function to run \n",
    "        print(\"success\")                        # Need run script twice in case it hangs at the download folder click step\n",
    "\n",
    "        driver.execute_script(\"window.close();\")\n",
    "\n",
    "    finally:\n",
    "        driver.quit()\n",
    "\n",
    "if __name__ == \"__main__\":\n",
    "    main()"
   ]
  },
  {
   "cell_type": "markdown",
   "metadata": {
    "created_in_deepnote_cell": true,
    "deepnote_cell_type": "markdown",
    "tags": []
   },
   "source": [
    "<a style='text-decoration:none;line-height:16px;display:flex;color:#5B5B62;padding:10px;justify-content:end;' href='https://deepnote.com?utm_source=created-in-deepnote-cell&projectId=669f40b4-27dd-4c6c-92d7-8542e31e14ea' target=\"_blank\">\n",
    "<img alt='Created in deepnote.com' style='display:inline;max-height:16px;margin:0px;margin-right:7.5px;' src='data:image/svg+xml;base64,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' > </img>\n",
    "Created in <span style='font-weight:600;margin-left:4px;'>Deepnote</span></a>"
   ]
  }
 ],
 "metadata": {
  "deepnote": {
   "is_reactive": false
  },
  "deepnote_execution_queue": [],
  "deepnote_notebook_id": "0fede75a-2d0d-41fe-8c56-f4e7b19cc81e",
  "kernelspec": {
   "display_name": "Python 3 (ipykernel)",
   "language": "python",
   "name": "python3"
  },
  "language_info": {
   "codemirror_mode": {
    "name": "ipython",
    "version": 3
   },
   "file_extension": ".py",
   "mimetype": "text/x-python",
   "name": "python",
   "nbconvert_exporter": "python",
   "pygments_lexer": "ipython3",
   "version": "3.9.12"
  }
 },
 "nbformat": 4,
 "nbformat_minor": 2
}
