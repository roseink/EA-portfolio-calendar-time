{
 "cells": [
  {
   "cell_type": "code",
   "execution_count": 7,
   "id": "f770801a",
   "metadata": {},
   "outputs": [
    {
     "data": {
      "text/plain": [
       "'C:\\\\Users\\\\clj585\\\\OneDrive - Northwestern University\\\\data_feeds\\\\zacks\\\\codes'"
      ]
     },
     "execution_count": 7,
     "metadata": {},
     "output_type": "execute_result"
    }
   ],
   "source": [
    "from IPython import get_ipython\n",
    "get_ipython().magic('reset -sf')\n",
    "import chromedriver_autoinstaller\n",
    "import chromedriver_binary\n",
    "import os\n",
    "import requests\n",
    "from selenium.webdriver.common.keys import Keys\n",
    "import numpy as np\n",
    "from selenium import webdriver\n",
    "from selenium.webdriver.support.ui import WebDriverWait\n",
    "from selenium.webdriver.support import expected_conditions as EC\n",
    "from selenium.webdriver.common.by import By\n",
    "from selenium.common.exceptions import ElementClickInterceptedException, TimeoutException\n",
    "from selenium.webdriver.chrome.options import Options\n",
    "import pandas as pd\n",
    "import time\n",
    "import datetime \n",
    "from datetime import datetime\n",
    "chromedriver_autoinstaller.install()\n",
    "os.getcwd()"
   ]
  },
  {
   "cell_type": "code",
   "execution_count": 8,
   "id": "e7e50d84",
   "metadata": {},
   "outputs": [],
   "source": [
    "def setOptions():\n",
    "    options = Options()\n",
    "    options.add_experimental_option(\"prefs\", {\n",
    "       \"download.default_directory\":\"C:\\\\Users\\\\clj585\\\\OneDrive - Northwestern University\\\\data_feeds\\\\zacks\\\\data\\\\webscrape\", \n",
    "        #Change download dir\n",
    "        \"download.prompt_for_download\": False,\n",
    "        \"download.directory_upgrade\": True\n",
    "    })\n",
    "    return options"
   ]
  },
  {
   "cell_type": "code",
   "execution_count": 9,
   "id": "6b4309fa",
   "metadata": {},
   "outputs": [],
   "source": [
    "def login(driver):\n",
    "    driver.get(\"https://www.zacks.com/\")\n",
    "    #popup = driver.find_element(By.XPATH, \"/html/body/footer/div[1]/div[2]/div/div/div/div[1]\")\n",
    "    #popup.click()\n",
    "    \n",
    "    signInDropFown = driver.find_element(By.XPATH, '/html/body/header/ul/li[2]/a')\n",
    "    signInDropFown.click()\n",
    "    usernameField = driver.find_element(By.XPATH, '/html/body/header/ul/li[2]/div/form/div[1]/input')\n",
    "    usernameField.send_keys('fundalytix@gmail.com') #add login info here\n",
    "    passwordField = driver.find_element(By.XPATH, '/html/body/header/ul/li[2]/div/form/div[2]/input')\n",
    "    passwordField.send_keys('Matt1980**') #add login info here\n",
    "    loginButton = driver.find_element(By.XPATH, '/html/body/header/ul/li[2]/div/form/p[2]/input')\n",
    "    loginButton.click()\n",
    "    return driver"
   ]
  },
  {
   "cell_type": "code",
   "execution_count": 10,
   "id": "64c035d8",
   "metadata": {},
   "outputs": [],
   "source": [
    "def getCompletedDownloads(driver):\n",
    "    if not driver.current_url.startswith(\"chrome://downloads\"):\n",
    "        driver.get(\"chrome://downloads/\")\n",
    "\n",
    "    return driver.execute_script(\"\"\"\n",
    "        var items = document.querySelector('downloads-manager')\n",
    "            .shadowRoot.getElementById('downloadsList').items;\n",
    "\n",
    "        if (items.every(e => e.state === \"COMPLETE\"))\n",
    "            return items.length;\n",
    "        \"\"\")\n"
   ]
  },
  {
   "cell_type": "code",
   "execution_count": 11,
   "id": "f0aec7b2",
   "metadata": {},
   "outputs": [],
   "source": [
    "def checkDownloads(downloadCount, driver):\n",
    "    driver.execute_script(\"window.open();\")\n",
    "    driver.switch_to.window(driver.window_handles[1])\n",
    "\n",
    "    downloadedCSV = getCompletedDownloads(driver)\n",
    "    while (downloadedCSV != None) and (downloadedCSV < downloadCount):\n",
    "        time.sleep(.5)\n",
    "        downloadedCSV = getCompletedDownloads(driver)\n",
    "    time.sleep(.5)\n"
   ]
  },
  {
   "cell_type": "code",
   "execution_count": 12,
   "id": "a95dca93",
   "metadata": {},
   "outputs": [
    {
     "name": "stdout",
     "output_type": "stream",
     "text": [
      "success\n"
     ]
    }
   ],
   "source": [
    "def main():\n",
    "    csvsDownloaded = 0\n",
    "    options = setOptions()\n",
    "    driver = webdriver.Chrome(options=options) #Change exec path\n",
    "    driver.set_window_size(1920, 1080)\n",
    "\n",
    "    driver = login(driver)\n",
    "    driver.get(\"https://www.zacks.com/screening/stock-screener\")\n",
    "\n",
    "    delay = 10 # seconds\n",
    "\n",
    "    try:\n",
    "        driver.switch_to.frame(driver.find_element(By.ID, 'screenerContent'))\n",
    "        myScreenButton = driver.find_element(By.XPATH, \n",
    "                                \"/html/body/main/section/div/div[1]/div/button[5]\")\n",
    "        myScreenButton.click()\n",
    "        \n",
    "        runCustomButton = WebDriverWait(driver, delay).until(\n",
    "            EC.element_to_be_clickable((By.XPATH, \n",
    "            \"/html/body/main/section/div/div[6]/section/div/div/div/div/table/tbody/tr[1]/td[3]/a[1]\")))\n",
    "        runCustomButton.click()\n",
    "        \n",
    "        downloadCSVButton = WebDriverWait(driver, delay).until(EC.element_to_be_clickable(\n",
    "            (By.XPATH, \"/html/body/main/section/div/div[4]/div/div[1]/div[2]/div[1]/div/div[1]/a[1]\")))\n",
    "        downloadCSVButton.click()\n",
    "        \n",
    "        csvsDownloaded += 1 #used to keep track of how many downloads have been processed\n",
    "        checkDownloads(csvsDownloaded, driver)\n",
    "        \n",
    "        # If for whatever reason the above script fails after 2 tries, need to alert us \n",
    "        # i.e. there was a Christmas holiday popup that blocked logging in function to run \n",
    "        print(\"success\")                     \n",
    "\n",
    "        driver.execute_script(\"window.close();\")\n",
    "\n",
    "    finally:\n",
    "        driver.quit()\n",
    "\n",
    "if __name__ == \"__main__\":\n",
    "    main()"
   ]
  },
  {
   "cell_type": "code",
   "execution_count": null,
   "id": "0da0b402",
   "metadata": {},
   "outputs": [],
   "source": []
  },
  {
   "cell_type": "code",
   "execution_count": null,
   "id": "aa6efbd2",
   "metadata": {},
   "outputs": [],
   "source": []
  }
 ],
 "metadata": {
  "kernelspec": {
   "display_name": "Python 3 (ipykernel)",
   "language": "python",
   "name": "python3"
  },
  "language_info": {
   "codemirror_mode": {
    "name": "ipython",
    "version": 3
   },
   "file_extension": ".py",
   "mimetype": "text/x-python",
   "name": "python",
   "nbconvert_exporter": "python",
   "pygments_lexer": "ipython3",
   "version": "3.8.8"
  }
 },
 "nbformat": 4,
 "nbformat_minor": 5
}
